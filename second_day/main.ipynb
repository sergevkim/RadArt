{
 "cells": [
  {
   "cell_type": "code",
   "execution_count": 1,
   "id": "c8122a6b-5654-417a-8d32-9360cf0f787f",
   "metadata": {},
   "outputs": [],
   "source": [
    "import json"
   ]
  },
  {
   "cell_type": "code",
   "execution_count": 2,
   "id": "d658d416-06f1-476a-acbd-bb850d228c52",
   "metadata": {},
   "outputs": [],
   "source": [
    "scenes = []\n",
    "for i in range(1):\n",
    "    with open('data/scene_{}.json'.format(i)) as f:\n",
    "        d = json.load(f)\n",
    "        scenes.append(d)"
   ]
  },
  {
   "cell_type": "code",
   "execution_count": 29,
   "id": "2cebec9f-e505-4585-be2f-f0ebf4eb936a",
   "metadata": {},
   "outputs": [
    {
     "name": "stdout",
     "output_type": "stream",
     "text": [
      "[-26.694650650024414, 7.3120036125183105, 0.0, -5.572916507720947, -11.0, 1.2344274520874023, 0.0, 0.0, 0.10000000149011612, 0.005474338307976723, 0.0, 1.0, 0.75, 2.187000036239624, 0.6159999966621399, 0.2879999876022339, 0.010999999940395355, 1.0, 4.0, -1.9435796737670898, 1.0]\n"
     ]
    }
   ],
   "source": [
    "print(scenes[0]['radar'][1])"
   ]
  },
  {
   "cell_type": "code",
   "execution_count": null,
   "id": "17dba4d0-9541-4253-98c9-c93a668fd22d",
   "metadata": {},
   "outputs": [],
   "source": []
  }
 ],
 "metadata": {
  "kernelspec": {
   "display_name": "Python 3 (ipykernel)",
   "language": "python",
   "name": "python3"
  },
  "language_info": {
   "codemirror_mode": {
    "name": "ipython",
    "version": 3
   },
   "file_extension": ".py",
   "mimetype": "text/x-python",
   "name": "python",
   "nbconvert_exporter": "python",
   "pygments_lexer": "ipython3",
   "version": "3.12.8"
  }
 },
 "nbformat": 4,
 "nbformat_minor": 5
}
