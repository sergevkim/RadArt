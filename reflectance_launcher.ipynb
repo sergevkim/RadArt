{
 "cells": [
  {
   "cell_type": "code",
   "execution_count": 1,
   "id": "70b190d6-7015-40d3-a8c5-dd908ff24ddb",
   "metadata": {},
   "outputs": [],
   "source": [
    "from paint_reflectance import paint_r\n",
    "from synchronization_delay_variety import get_fixed_radar_points\n",
    "from read_and_prepare_files import Data, Point, RadarPoint, LidarPoint"
   ]
  },
  {
   "cell_type": "code",
   "execution_count": 2,
   "id": "357d9397-11a0-4e1a-9745-88ce9e237a75",
   "metadata": {},
   "outputs": [],
   "source": [
    "scene = Data.read_json(16)\n",
    "\n",
    "radar_ints = Data.get_radars(scene)\n",
    "lidar_ints = Data.get_lidars(scene)\n",
    "\n",
    "radar_points = Data.convert_ints_to_points(radar_ints)\n",
    "lidar_points = Data.convert_ints_to_points(lidar_ints)\n",
    "\n",
    "lidar_points = Data.get_points_with_ratio(lidar_points, 0.1)\n",
    "\n",
    "radar_points = get_fixed_radar_points(radar_points)"
   ]
  },
  {
   "cell_type": "code",
   "execution_count": 3,
   "id": "936a6bf0-9dc8-44b1-be0a-faa61e5714af",
   "metadata": {},
   "outputs": [],
   "source": [
    "paint_r(radar_list=radar_points, lidar_list=lidar_points, POINT_SIZE=1)"
   ]
  }
 ],
 "metadata": {
  "kernelspec": {
   "display_name": "Python 3 (ipykernel)",
   "language": "python",
   "name": "python3"
  },
  "language_info": {
   "codemirror_mode": {
    "name": "ipython",
    "version": 3
   },
   "file_extension": ".py",
   "mimetype": "text/x-python",
   "name": "python",
   "nbconvert_exporter": "python",
   "pygments_lexer": "ipython3",
   "version": "3.12.3"
  }
 },
 "nbformat": 4,
 "nbformat_minor": 5
}
