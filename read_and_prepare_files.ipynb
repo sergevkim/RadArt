{
 "cells": [
  {
   "cell_type": "code",
   "execution_count": 26,
   "id": "5deca438-b7a6-4931-894a-0be2285aa68a",
   "metadata": {},
   "outputs": [],
   "source": [
    "class Point:\n",
    "    def get_xyz(self):\n",
    "        return self.x, self.y, self.z\n"
   ]
  },
  {
   "cell_type": "code",
   "execution_count": 25,
   "id": "18b02c3e-f523-4945-a169-7d28145240bb",
   "metadata": {},
   "outputs": [],
   "source": [
    "class RadarPoint(Point):\n",
    "    def __init__(self, point: list[int]):\n",
    "        self.x = point[0]\n",
    "        self.y = point[1]\n",
    "        self.z = point[2]\n",
    "        self.kAbsoluteRadialVelocity = point[3]\n",
    "        self.kRadarCrossSection = point[4]\n",
    "        self.kRelativeRadialVelocity = point[5]\n",
    "        self.kRelativeLateralVelocity = point[6]\n",
    "        self.kRange = point[7]\n",
    "        self.kDistanceAccuracy = point[8]\n",
    "        self.kAngleAccuracy = point[9]\n",
    "        self.kDynProp = point[10]\n",
    "        self.kHasQuality = point[11]\n",
    "        self.kQPDH0 = point[12]\n",
    "        self.kQDistLongRMS = point[13]\n",
    "        self.kQDistLatRMS = point[14]\n",
    "        self.kQVLongRMS = point[15]\n",
    "        self.kQVLatRMS = point[16]\n",
    "        self.kQAmbigState = point[17]\n",
    "        self.kQInvalidState = point[18]\n",
    "        self.delta_t = point[19]\n",
    "        self.radar_idx = point[20]\n"
   ]
  },
  {
   "cell_type": "code",
   "execution_count": 24,
   "id": "2ead0fcb-a2f7-4aa5-aa3d-fe4a1552dcc8",
   "metadata": {},
   "outputs": [],
   "source": [
    "class LidarPoint(Point):\n",
    "    def __init__(self, point: list[int]):\n",
    "        self.x = point[0]\n",
    "        self.y = point[1]\n",
    "        self.z = point[2]\n",
    "        self.reflectance = point[3]\n",
    "        self.lidar_ring = point[4]\n"
   ]
  },
  {
   "cell_type": "code",
   "execution_count": 23,
   "id": "622793da-42f9-4a04-aac5-afe922046830",
   "metadata": {},
   "outputs": [],
   "source": [
    "class Data:\n",
    "    def read_json(index: int) -> dict:\n",
    "        import json\n",
    "        with open('data/scene_{}.json'.format(index)) as f:\n",
    "            d = json.load(f)\n",
    "        return d\n",
    "\n",
    "    def get_radars(d: dict) -> list[list[int]]:\n",
    "        return d['radar']\n",
    "    \n",
    "    def get_lidars(d: dict) -> list[list[int]]:\n",
    "        return d['lidar']\n",
    "\n",
    "    def convert_ints_to_points(points: list[list[int]]) -> list[Point]:\n",
    "        list_of_Points = []\n",
    "        for point in points:\n",
    "            if len(point) == 5:\n",
    "                new_point = LidarPoint(point)\n",
    "            elif len(point) == 21:\n",
    "                new_point = RadarPoint(point)\n",
    "            else:\n",
    "                raise AssertionError\n",
    "            list_of_Points.append(new_point)\n",
    "        return list_of_Points\n",
    "\n",
    "    def get_points_with_ratio(points: list[Point], ratio: float) -> list[Point]:\n",
    "        import random\n",
    "        return random.sample(points, int(len(points) * ratio))\n",
    "    "
   ]
  },
  {
   "cell_type": "code",
   "execution_count": null,
   "id": "89c54b4c-d863-4c61-838f-42f91cef702c",
   "metadata": {},
   "outputs": [],
   "source": []
  }
 ],
 "metadata": {
  "kernelspec": {
   "display_name": "Python 3 (ipykernel)",
   "language": "python",
   "name": "python3"
  },
  "language_info": {
   "codemirror_mode": {
    "name": "ipython",
    "version": 3
   },
   "file_extension": ".py",
   "mimetype": "text/x-python",
   "name": "python",
   "nbconvert_exporter": "python",
   "pygments_lexer": "ipython3",
   "version": "3.12.8"
  }
 },
 "nbformat": 4,
 "nbformat_minor": 5
}
