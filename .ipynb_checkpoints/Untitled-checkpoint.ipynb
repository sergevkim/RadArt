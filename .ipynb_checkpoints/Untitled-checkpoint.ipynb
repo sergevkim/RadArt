{
 "cells": [
  {
   "cell_type": "code",
   "execution_count": 5,
   "id": "38ce5634-3513-4b03-b069-ca5ca3cb9ba4",
   "metadata": {},
   "outputs": [],
   "source": [
    "from radlid_func import compare_radlid\n",
    "from synchronization import get_fixed_radar_points\n",
    "from delete_asphalt import filter_asphalt\n",
    "from read_and_prepare_files import Data, Point, RadarPoint, LidarPoint\n",
    "from metrics import DensityMetric"
   ]
  },
  {
   "cell_type": "code",
   "execution_count": 12,
   "id": "a355b089-f648-424c-abe0-37352feecd62",
   "metadata": {},
   "outputs": [],
   "source": [
    "scene = Data.read_json(85)\n",
    "\n",
    "radar_ints = Data.get_radars(scene)\n",
    "lidar_ints = Data.get_lidars(scene)\n",
    "\n",
    "radar_points = Data.convert_ints_to_points(radar_ints)\n",
    "lidar_points = Data.convert_ints_to_points(lidar_ints)\n",
    "\n",
    "lidar_points = filter_asphalt(Data.get_points_with_ratio(lidar_points, 0.25))\n",
    "\n",
    "radar_points = get_fixed_radar_points(radar_points)"
   ]
  },
  {
   "cell_type": "code",
   "execution_count": 13,
   "id": "c64bbb1d-1b8b-41ca-9744-e2bbfd65127a",
   "metadata": {},
   "outputs": [
    {
     "data": {
      "text/plain": [
       "0.07191338683777349"
      ]
     },
     "execution_count": 13,
     "metadata": {},
     "output_type": "execute_result"
    }
   ],
   "source": [
    "DensityMetric(lidar_points, radar_points, 20)"
   ]
  },
  {
   "cell_type": "code",
   "execution_count": 14,
   "id": "6d69ea7e-78aa-43c7-80c5-d2a4490c7b21",
   "metadata": {},
   "outputs": [],
   "source": [
    "compare_radlid(radar_list=radar_points, lidar_list=lidar_points, POINT_SIZE=1)"
   ]
  },
  {
   "cell_type": "code",
   "execution_count": null,
   "id": "f248d340-c0f1-4e51-8a8d-5489962553ea",
   "metadata": {},
   "outputs": [],
   "source": []
  }
 ],
 "metadata": {
  "kernelspec": {
   "display_name": "Python 3 (ipykernel)",
   "language": "python",
   "name": "python3"
  },
  "language_info": {
   "codemirror_mode": {
    "name": "ipython",
    "version": 3
   },
   "file_extension": ".py",
   "mimetype": "text/x-python",
   "name": "python",
   "nbconvert_exporter": "python",
   "pygments_lexer": "ipython3",
   "version": "3.12.3"
  }
 },
 "nbformat": 4,
 "nbformat_minor": 5
}
